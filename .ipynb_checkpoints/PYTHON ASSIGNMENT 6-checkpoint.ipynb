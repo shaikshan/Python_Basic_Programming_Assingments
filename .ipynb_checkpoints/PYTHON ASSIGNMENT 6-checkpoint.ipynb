{
 "cells": [
  {
   "cell_type": "markdown",
   "id": "c03fbb30",
   "metadata": {},
   "source": [
    "1 . Write a Python Program to Display Fibonacci Sequence Using Recursion?"
   ]
  },
  {
   "cell_type": "code",
   "execution_count": 10,
   "id": "9ee9dc95",
   "metadata": {},
   "outputs": [
    {
     "name": "stdout",
     "output_type": "stream",
     "text": [
      "Enter num:6\n",
      "1 1 2 3 5 "
     ]
    }
   ],
   "source": [
    "def recur(n):\n",
    "    if n<=1:\n",
    "        return n\n",
    "    else:\n",
    "        return recur(n-1) + recur(n-2)\n",
    "    \n",
    "num = int(input(\"Enter num:\"))\n",
    "\n",
    "if num<=0:\n",
    "    print(\"Please provide +ve number:\")\n",
    "    \n",
    "else:\n",
    "    for i in range(1,num):\n",
    "        print(recur(i), end = \" \")"
   ]
  },
  {
   "cell_type": "markdown",
   "id": "f2f5685b",
   "metadata": {},
   "source": [
    "2 . Write a Python Program to Find Factorial of Number Using Recursion?"
   ]
  },
  {
   "cell_type": "code",
   "execution_count": 12,
   "id": "b2dcfc61",
   "metadata": {},
   "outputs": [
    {
     "name": "stdout",
     "output_type": "stream",
     "text": [
      "input a num:3\n",
      "6\n"
     ]
    }
   ],
   "source": [
    "def fac(n):\n",
    "    if n==0:\n",
    "        return 1\n",
    "    else:\n",
    "        return n*fac(n-1)\n",
    "    \n",
    "num = int(input(\"input a num:\"))\n",
    "\n",
    "if num<0:\n",
    "    print(\"Enter +ve number:\")\n",
    "else:\n",
    "    print(fac(num))"
   ]
  },
  {
   "cell_type": "markdown",
   "id": "311793ee",
   "metadata": {},
   "source": [
    "3 . Write a Python Program to calculate your Body Mass Index?"
   ]
  },
  {
   "cell_type": "code",
   "execution_count": 13,
   "id": "57089266",
   "metadata": {},
   "outputs": [
    {
     "name": "stdout",
     "output_type": "stream",
     "text": [
      "enter your height in feet : 6\n",
      "enter your weight in kilo : 85\n",
      "The BIM is =  2.361111111111111\n"
     ]
    }
   ],
   "source": [
    "# BMI = weight / Height * height\n",
    "\n",
    "h = float(input(\"enter your height in feet : \"))\n",
    "w = float(input(\"enter your weight in kilo : \"))\n",
    "\n",
    "bmi = w/(h**2)\n",
    "\n",
    "print(\"The BIM is = \",bmi)"
   ]
  },
  {
   "cell_type": "markdown",
   "id": "1b403a38",
   "metadata": {},
   "source": [
    "4 . Write a Python Program to calculate the natural logarithm of any number?"
   ]
  },
  {
   "cell_type": "code",
   "execution_count": 23,
   "id": "8801282b",
   "metadata": {},
   "outputs": [
    {
     "name": "stdout",
     "output_type": "stream",
     "text": [
      "Enter a number : 5\n",
      "Log of 5 is 1.6094379124341003\n"
     ]
    }
   ],
   "source": [
    "import math\n",
    "x = int(input((\"Enter a number : \")))\n",
    "if x==0:\n",
    "    print(\"log 0 is undefined\")\n",
    "else:\n",
    "    log = math.log(x)\n",
    "    print(\"Log of {} is {}\".format(x, log))"
   ]
  },
  {
   "cell_type": "markdown",
   "id": "5ff8ee26",
   "metadata": {},
   "source": [
    "5 . Write a Python Program for cube sum of first n natural numbers?"
   ]
  },
  {
   "cell_type": "code",
   "execution_count": 24,
   "id": "17ac76f3",
   "metadata": {},
   "outputs": [
    {
     "name": "stdout",
     "output_type": "stream",
     "text": [
      "Enter a no :3\n",
      "Cube sum of 3 natural numbers is 36\n"
     ]
    }
   ],
   "source": [
    "\n",
    "num = int(input(\"Enter a no :\"))\n",
    "sum = 0\n",
    "for i in range(1 , num+1):\n",
    "    sum = sum + i**3\n",
    "print(\"Cube sum of {} natural numbers is {}\".format(num,sum))    "
   ]
  },
  {
   "cell_type": "code",
   "execution_count": null,
   "id": "4061e27c",
   "metadata": {},
   "outputs": [],
   "source": []
  }
 ],
 "metadata": {
  "kernelspec": {
   "display_name": "Python 3 (ipykernel)",
   "language": "python",
   "name": "python3"
  },
  "language_info": {
   "codemirror_mode": {
    "name": "ipython",
    "version": 3
   },
   "file_extension": ".py",
   "mimetype": "text/x-python",
   "name": "python",
   "nbconvert_exporter": "python",
   "pygments_lexer": "ipython3",
   "version": "3.9.7"
  }
 },
 "nbformat": 4,
 "nbformat_minor": 5
}
