{
 "cells": [
  {
   "cell_type": "markdown",
   "id": "f10930ae",
   "metadata": {},
   "source": [
    "1 . Write a Python Program to Find the Factorial of a Number?"
   ]
  },
  {
   "cell_type": "code",
   "execution_count": 2,
   "id": "33453a8c",
   "metadata": {},
   "outputs": [
    {
     "name": "stdout",
     "output_type": "stream",
     "text": [
      "7\n",
      "5040\n"
     ]
    }
   ],
   "source": [
    "import numpy as np\n",
    "num = int(input())\n",
    "Factorial = np.math.factorial(num)\n",
    "print(Factorial)"
   ]
  },
  {
   "cell_type": "markdown",
   "id": "47f6c430",
   "metadata": {},
   "source": [
    "2 . Write a Python Program to Display the multiplication Table?"
   ]
  },
  {
   "cell_type": "code",
   "execution_count": 4,
   "id": "a91422c7",
   "metadata": {},
   "outputs": [
    {
     "name": "stdout",
     "output_type": "stream",
     "text": [
      "Enter a number for table5\n",
      "multiplication table for 5\n",
      "5 x 1 = 5\n",
      "5 x 2 = 10\n",
      "5 x 3 = 15\n",
      "5 x 4 = 20\n",
      "5 x 5 = 25\n",
      "5 x 6 = 30\n",
      "5 x 7 = 35\n",
      "5 x 8 = 40\n",
      "5 x 9 = 45\n",
      "5 x 10 = 50\n"
     ]
    }
   ],
   "source": [
    "num = int(input(\"Enter a number for table\"))\n",
    "print(\"multiplication table for\",num)\n",
    "for i in range(1,11):\n",
    "    print(f\"{num} x {i} = {num*i}\")"
   ]
  },
  {
   "cell_type": "markdown",
   "id": "9dba5893",
   "metadata": {},
   "source": [
    "3 . Write a Python Program to Print the Fibonacci sequence?"
   ]
  },
  {
   "cell_type": "code",
   "execution_count": 18,
   "id": "6856f809",
   "metadata": {},
   "outputs": [
    {
     "data": {
      "text/plain": [
       "[1, 1, 2, 3, 5, 8, 13, 21, 34, 55]"
      ]
     },
     "execution_count": 18,
     "metadata": {},
     "output_type": "execute_result"
    }
   ],
   "source": [
    "# Fibonacci series - > 1, 1, 2, 3, 5,8,13........\n",
    "def fib(n):\n",
    "    a =1\n",
    "    b= 1\n",
    "    l =[]\n",
    "    for i in range(n):\n",
    "        l.append(a)\n",
    "        a , b = b , a+b\n",
    "    return l  \n",
    "    \n",
    "fib(10)"
   ]
  },
  {
   "cell_type": "markdown",
   "id": "d0d5c7e9",
   "metadata": {},
   "source": [
    "4 . Write a Python Program to Check Armstrong Number?"
   ]
  },
  {
   "cell_type": "code",
   "execution_count": 51,
   "id": "9f92e462",
   "metadata": {},
   "outputs": [
    {
     "name": "stdout",
     "output_type": "stream",
     "text": [
      "407\n",
      "407 armstrong number\n"
     ]
    }
   ],
   "source": [
    "num = int(input())\n",
    "r = num\n",
    "power = len(str(num))\n",
    "su = 0\n",
    "for i in range(power):\n",
    "    if r >0 and i < power:\n",
    "        n = r%10\n",
    "        #print(n)\n",
    "        su = su + n**power\n",
    "        #print(su)\n",
    "        r = r//10\n",
    "        #print(r)\n",
    "if num == su:\n",
    "    print(su,\"armstrong number\")\n",
    "else:\n",
    "    print(su,\"not armstrong\")"
   ]
  },
  {
   "cell_type": "markdown",
   "id": "85531f88",
   "metadata": {},
   "source": [
    "5 . Write a Python Program to Find Armstrong Number in an Interval?"
   ]
  },
  {
   "cell_type": "code",
   "execution_count": 52,
   "id": "e799a0ed",
   "metadata": {},
   "outputs": [
    {
     "name": "stdout",
     "output_type": "stream",
     "text": [
      "100\n",
      "1000\n",
      "153\n",
      "370\n",
      "371\n",
      "407\n"
     ]
    }
   ],
   "source": [
    "num1 = int(input())\n",
    "num2 = int(input())\n",
    "for num in range(num1,num2):\n",
    "    r = num\n",
    "    power = len(str(num))\n",
    "    su = 0\n",
    "    for j in range(power):\n",
    "        if r >0 and j < power:\n",
    "            n = r%10\n",
    "            #print(n)\n",
    "            su = su + n**power\n",
    "            #print(su)\n",
    "            r = r//10\n",
    "            #print(r)\n",
    "    if num == su:\n",
    "        print(num)\n",
    "   "
   ]
  },
  {
   "cell_type": "markdown",
   "id": "56db1e82",
   "metadata": {},
   "source": [
    "6 . Write a Python Program to Find the Sum of Natural Numbers?"
   ]
  },
  {
   "cell_type": "code",
   "execution_count": 1,
   "id": "2e96c2b9",
   "metadata": {},
   "outputs": [
    {
     "name": "stdout",
     "output_type": "stream",
     "text": [
      "Enter Natural num:10\n",
      "55\n"
     ]
    }
   ],
   "source": [
    "#Natural num = 0,1,2,3,4,..\n",
    "num = int(input(\"Enter Natural num:\"))\n",
    "su = 0\n",
    "for i in range(0,num+1):\n",
    "    su+=i\n",
    "    \n",
    "print(su)"
   ]
  },
  {
   "cell_type": "code",
   "execution_count": null,
   "id": "73c44031",
   "metadata": {},
   "outputs": [],
   "source": []
  }
 ],
 "metadata": {
  "kernelspec": {
   "display_name": "Python 3 (ipykernel)",
   "language": "python",
   "name": "python3"
  },
  "language_info": {
   "codemirror_mode": {
    "name": "ipython",
    "version": 3
   },
   "file_extension": ".py",
   "mimetype": "text/x-python",
   "name": "python",
   "nbconvert_exporter": "python",
   "pygments_lexer": "ipython3",
   "version": "3.9.7"
  }
 },
 "nbformat": 4,
 "nbformat_minor": 5
}
