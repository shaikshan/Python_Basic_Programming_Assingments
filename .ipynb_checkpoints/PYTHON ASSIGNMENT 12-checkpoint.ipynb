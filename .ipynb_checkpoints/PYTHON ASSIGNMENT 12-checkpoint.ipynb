{
 "cells": [
  {
   "cell_type": "markdown",
   "id": "880086a1",
   "metadata": {},
   "source": [
    "1 . Write a Python program to Extract Unique values dictionary values?"
   ]
  },
  {
   "cell_type": "code",
   "execution_count": 1,
   "id": "3e4f16ee",
   "metadata": {},
   "outputs": [
    {
     "name": "stdout",
     "output_type": "stream",
     "text": [
      "unique values are: {64, 1, 66, 3, 0, 4, 7, 8, 45, 47, 17, 81, 21}\n"
     ]
    }
   ],
   "source": [
    "dict1 = {'a' : [3, 64, 17, 66],\n",
    "             'b' : [1, 21, 47, 45],\n",
    "             'c' : [0, 17, 7, 81],\n",
    "             'd' : [3, 3, 4,8]}\n",
    "\n",
    "un_val = set([ele for val in dict1.values() for ele in val])\n",
    "print(\"unique values are: {}\".format(un_val))"
   ]
  },
  {
   "cell_type": "markdown",
   "id": "8c367e68",
   "metadata": {},
   "source": [
    "2 . Write a Python program to find the sum of all items in a dictionary?"
   ]
  },
  {
   "cell_type": "code",
   "execution_count": 4,
   "id": "f016b35c",
   "metadata": {},
   "outputs": [
    {
     "name": "stdout",
     "output_type": "stream",
     "text": [
      "The sum of all items in a dictionary is:\n",
      " 60\n"
     ]
    }
   ],
   "source": [
    "dic = {\"a\":10,\"b\":20,\"c\":30}\n",
    "sum = 0\n",
    "for i in dic:\n",
    "    sum+=dic[i]\n",
    "    \n",
    "print(\"The sum of all items in a dictionary is:\\n\",sum)"
   ]
  },
  {
   "cell_type": "markdown",
   "id": "0338cfec",
   "metadata": {},
   "source": [
    "3 . Write a Python program to Merging two Dictionaries?"
   ]
  },
  {
   "cell_type": "code",
   "execution_count": 5,
   "id": "532dcd15",
   "metadata": {},
   "outputs": [
    {
     "name": "stdout",
     "output_type": "stream",
     "text": [
      "dict one: {'a': 2, 'b': 3}\n",
      "dict two: {'c': 4, 'd': 5}\n",
      "updated dictionary:{'a': 2, 'b': 3, 'c': 4, 'd': 5}\n"
     ]
    }
   ],
   "source": [
    "one = {\"a\":2,\"b\":3}\n",
    "two = {\"c\":4,\"d\":5}\n",
    "both = one.copy()\n",
    "both.update(two)\n",
    "print(\"dict one:\",one)\n",
    "print(\"dict two:\",two)\n",
    "print(\"updated dictionary:{}\".format(both))"
   ]
  },
  {
   "cell_type": "markdown",
   "id": "b934edcb",
   "metadata": {},
   "source": [
    "4 . Write a Python program to convert key-values list to flat dictionary?"
   ]
  },
  {
   "cell_type": "code",
   "execution_count": 11,
   "id": "2348b53e",
   "metadata": {},
   "outputs": [
    {
     "name": "stdout",
     "output_type": "stream",
     "text": [
      "key-values list of flat dictionary : {1: 'raja', 2: 'ravi', 3: 'rajesh'}\n"
     ]
    }
   ],
   "source": [
    "test_dict = {'student':[1,2,3],\n",
    "            \"name\":[\"raja\",\"ravi\",\"rajesh\"]}\n",
    "\n",
    "key_values = dict(zip(test_dict['student'],test_dict['name']))\n",
    "print(\"key-values list of flat dictionary :\",key_values)"
   ]
  },
  {
   "cell_type": "markdown",
   "id": "0a8127bf",
   "metadata": {},
   "source": [
    "5 . Write a Python program to insertion at the beginning in OrderedDict?"
   ]
  },
  {
   "cell_type": "code",
   "execution_count": 12,
   "id": "0b7aecf6",
   "metadata": {},
   "outputs": [
    {
     "name": "stdout",
     "output_type": "stream",
     "text": [
      "Ordered Dictionary  : OrderedDict([('Jan', '1'), ('Feb', '2'), ('Mar', '3')])\n"
     ]
    }
   ],
   "source": [
    "# insertion of items in beginning of ordered dict\n",
    "from collections import OrderedDict\n",
    "  \n",
    "# initialising ordered_dict\n",
    "iniordered_dict = OrderedDict([('Feb', '2'), ('Mar', '3')])\n",
    "  \n",
    "# inserting items in starting of dict \n",
    "iniordered_dict.update({'Jan':'1'})\n",
    "iniordered_dict.move_to_end('Jan', last = False)\n",
    "  \n",
    "# print result\n",
    "print (\"Ordered Dictionary  : \"+str(iniordered_dict))"
   ]
  },
  {
   "cell_type": "markdown",
   "id": "b684e5f1",
   "metadata": {},
   "source": [
    "6 . Write a Python program to check order of character in string using OrderedDict()?"
   ]
  },
  {
   "cell_type": "code",
   "execution_count": 15,
   "id": "49d24dfe",
   "metadata": {},
   "outputs": [
    {
     "name": "stdout",
     "output_type": "stream",
     "text": [
      "enter string : roshan\n",
      "Enter Pattern : na\n",
      "OrderedDict([('r', None), ('o', None), ('s', None), ('h', None), ('a', None), ('n', None)])\n",
      "Pattern not matched\n"
     ]
    }
   ],
   "source": [
    "from collections import OrderedDict \n",
    "  \n",
    "def checkOrderofString(str, pattern): \n",
    "      \n",
    "    # create empty OrderedDict \n",
    "    dict = OrderedDict.fromkeys(str) \n",
    "    print(dict)   \n",
    "    ptrlen = 0\n",
    "    for key,value in dict.items(): \n",
    "        \n",
    "        if (key == pattern[ptrlen]): \n",
    "            ptrlen = ptrlen + 1\n",
    "          \n",
    "        # check if we have traverse complete pattern string \n",
    "        if (ptrlen == (len(pattern))):            \n",
    "            return True\n",
    "  \n",
    "    # if we come out from for loop that means order was mismatched \n",
    "    return False\n",
    "  \n",
    "\n",
    "string = input(\"enter string : \")\n",
    "pattern = input(\"Enter Pattern : \")\n",
    "if checkOrderofString(string,pattern):\n",
    "    print(\"Pattern matched\")\n",
    "else:\n",
    "    print(\"Pattern not matched\")"
   ]
  },
  {
   "cell_type": "markdown",
   "id": "85e26465",
   "metadata": {},
   "source": [
    "7 . Write a Python program to sort Python Dictionaries by Key or Value?"
   ]
  },
  {
   "cell_type": "code",
   "execution_count": 21,
   "id": "bdcc011c",
   "metadata": {},
   "outputs": [
    {
     "data": {
      "text/plain": [
       "['a', 'b', 'c']"
      ]
     },
     "execution_count": 21,
     "metadata": {},
     "output_type": "execute_result"
    }
   ],
   "source": [
    "dict1 = {\"a\":1,\"c\":3,\"b\":2}\n",
    "sorted(dict1.keys())"
   ]
  },
  {
   "cell_type": "code",
   "execution_count": 23,
   "id": "b04ce42e",
   "metadata": {},
   "outputs": [
    {
     "data": {
      "text/plain": [
       "[4, 5, 6]"
      ]
     },
     "execution_count": 23,
     "metadata": {},
     "output_type": "execute_result"
    }
   ],
   "source": [
    "dict2 = {'d':5,'e':4,'f':6}\n",
    "sorted(dict2.values())"
   ]
  },
  {
   "cell_type": "code",
   "execution_count": null,
   "id": "32003f2c",
   "metadata": {},
   "outputs": [],
   "source": []
  },
  {
   "cell_type": "code",
   "execution_count": null,
   "id": "3d47ba31",
   "metadata": {},
   "outputs": [],
   "source": []
  }
 ],
 "metadata": {
  "kernelspec": {
   "display_name": "Python 3 (ipykernel)",
   "language": "python",
   "name": "python3"
  },
  "language_info": {
   "codemirror_mode": {
    "name": "ipython",
    "version": 3
   },
   "file_extension": ".py",
   "mimetype": "text/x-python",
   "name": "python",
   "nbconvert_exporter": "python",
   "pygments_lexer": "ipython3",
   "version": "3.9.7"
  }
 },
 "nbformat": 4,
 "nbformat_minor": 5
}
