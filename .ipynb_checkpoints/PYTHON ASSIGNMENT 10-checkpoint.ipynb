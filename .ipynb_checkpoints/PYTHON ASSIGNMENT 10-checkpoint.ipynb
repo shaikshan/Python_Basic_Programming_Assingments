{
 "cells": [
  {
   "cell_type": "markdown",
   "id": "0f0b60de",
   "metadata": {},
   "source": [
    "1 . Write a Python program to find sum of elements in list?"
   ]
  },
  {
   "cell_type": "code",
   "execution_count": 2,
   "id": "1c3e8c5e",
   "metadata": {},
   "outputs": [
    {
     "name": "stdout",
     "output_type": "stream",
     "text": [
      "The sum: 10\n"
     ]
    }
   ],
   "source": [
    "l = [1,2,3,4]\n",
    "su = 0\n",
    "for i in l:\n",
    "    su+=i\n",
    "print(\"The sum:\",su)\n",
    "    "
   ]
  },
  {
   "cell_type": "markdown",
   "id": "61b9fe4f",
   "metadata": {},
   "source": [
    "2 . Write a Python program to Multiply all numbers in the list?"
   ]
  },
  {
   "cell_type": "code",
   "execution_count": 4,
   "id": "d8976a17",
   "metadata": {},
   "outputs": [
    {
     "name": "stdout",
     "output_type": "stream",
     "text": [
      "Multiplication of list: 120\n"
     ]
    }
   ],
   "source": [
    "l = [1,2,3,4,5]\n",
    "mul = 1\n",
    "for i in l:\n",
    "    mul*=i\n",
    "    \n",
    "print(\"Multiplication of list:\",mul)\n",
    "    \n",
    "    "
   ]
  },
  {
   "cell_type": "markdown",
   "id": "13f01ccb",
   "metadata": {},
   "source": [
    "3 . Write a Python program to find smallest number in a list?"
   ]
  },
  {
   "cell_type": "code",
   "execution_count": 6,
   "id": "4f2075f9",
   "metadata": {},
   "outputs": [
    {
     "name": "stdout",
     "output_type": "stream",
     "text": [
      "The smallest num is: 1\n"
     ]
    }
   ],
   "source": [
    "l = [6,5,4,8,4,1,5,4,7]\n",
    "l.sort()\n",
    "small = l[0]\n",
    "print(\"The smallest num is:\",small)\n"
   ]
  },
  {
   "cell_type": "markdown",
   "id": "618976a9",
   "metadata": {},
   "source": [
    " 4 . Write a Python program to find largest number in a list?"
   ]
  },
  {
   "cell_type": "code",
   "execution_count": 7,
   "id": "c4965554",
   "metadata": {},
   "outputs": [
    {
     "name": "stdout",
     "output_type": "stream",
     "text": [
      "The smallest num is: 8\n"
     ]
    }
   ],
   "source": [
    "l = [6,5,4,8,4,1,5,4,7]\n",
    "l.sort()\n",
    "Large = l[-1]\n",
    "print(\"The smallest num is:\",Large)"
   ]
  },
  {
   "cell_type": "markdown",
   "id": "8e65c34d",
   "metadata": {},
   "source": [
    "5 . Write a Python program to find second largest number in a list?"
   ]
  },
  {
   "cell_type": "code",
   "execution_count": 9,
   "id": "3281bfb2",
   "metadata": {},
   "outputs": [
    {
     "name": "stdout",
     "output_type": "stream",
     "text": [
      "Second large ele in list: 7\n"
     ]
    }
   ],
   "source": [
    "l = [6,5,4,8,4,1,5,4,7]\n",
    "l.sort()\n",
    "secon_large = l[-2]\n",
    "print(\"Second large ele in list:\",secon_large)"
   ]
  },
  {
   "cell_type": "markdown",
   "id": "7bec5a06",
   "metadata": {},
   "source": [
    "6 . Write a Python program to find N largest elements from a list?"
   ]
  },
  {
   "cell_type": "code",
   "execution_count": 12,
   "id": "8ed5a569",
   "metadata": {},
   "outputs": [
    {
     "name": "stdout",
     "output_type": "stream",
     "text": [
      "Enter the lenth of your list : 7\n",
      "1\n",
      "2\n",
      "3\n",
      "4\n",
      "5\n",
      "6\n",
      "7\n",
      "The List is  [1, 2, 3, 4, 5, 6, 7]\n",
      "The sorted list is  [1, 2, 3, 4, 5, 6, 7]\n",
      "Enter how many largest number you want from list:3\n",
      "3 largest elements from the list are : [5, 6, 7]\n"
     ]
    }
   ],
   "source": [
    "\n",
    "n = int(input(\"Enter the lenth of your list : \"))\n",
    "lst = []\n",
    "\n",
    "for i in range(n):\n",
    "    lst.append(int(input()))\n",
    "print(\"The List is \",lst)\n",
    "lst.sort()\n",
    "print(\"The sorted list is \",lst)\n",
    "nlar = int(input(\"Enter how many largest number you want from list:\"))\n",
    "\n",
    "if n < nlar :\n",
    "    print(\"enterted value is larger then the length of list\")\n",
    "else:\n",
    "    print(nlar,\"largest elements from the list are :\",lst[(n-nlar):])"
   ]
  },
  {
   "cell_type": "markdown",
   "id": "9285d2b2",
   "metadata": {},
   "source": [
    "7 . Write a Python program to print even numbers in a list?"
   ]
  },
  {
   "cell_type": "code",
   "execution_count": 14,
   "id": "f5ab61c5",
   "metadata": {},
   "outputs": [
    {
     "name": "stdout",
     "output_type": "stream",
     "text": [
      "Enter  the len of the list :5\n",
      "1\n",
      "2\n",
      "3\n",
      "4\n",
      "5\n",
      "The List is : [1, 2, 3, 4, 5]\n",
      "The even numbers in list [2, 4]\n"
     ]
    }
   ],
   "source": [
    "\n",
    "lent =  int(input(\"Enter  the len of the list :\"))\n",
    "lst = []\n",
    "for i in  range(lent):\n",
    "    lst.append(int(input()))\n",
    "print(\"The List is :\" ,lst)\n",
    "even = [i for i in lst if i%2==0 ]\n",
    "print(\"The even numbers in list\" , even)\n"
   ]
  },
  {
   "cell_type": "markdown",
   "id": "be77dbc2",
   "metadata": {},
   "source": [
    "8 . Write a Python program to print odd numbers in a List?"
   ]
  },
  {
   "cell_type": "code",
   "execution_count": 16,
   "id": "7121cb26",
   "metadata": {},
   "outputs": [
    {
     "name": "stdout",
     "output_type": "stream",
     "text": [
      "Enter  the len of the list :5\n",
      "1\n",
      "2\n",
      "3\n",
      "4\n",
      "5\n",
      "The List is : [1, 2, 3, 4, 5]\n",
      "The Odd numbers in list [1, 3, 5]\n"
     ]
    }
   ],
   "source": [
    "lent =  int(input(\"Enter  the len of the list :\"))\n",
    "lst = []\n",
    "for i in  range(lent):\n",
    "    lst.append(int(input()))\n",
    "print(\"The List is :\" ,lst)\n",
    "odd = [i for i in lst if i%2==1 ]\n",
    "print(\"The Odd numbers in list\" , odd)"
   ]
  },
  {
   "cell_type": "markdown",
   "id": "4e5690aa",
   "metadata": {},
   "source": [
    "9 . Write a Python program to Remove empty List from List?"
   ]
  },
  {
   "cell_type": "code",
   "execution_count": 17,
   "id": "b008fda2",
   "metadata": {},
   "outputs": [
    {
     "name": "stdout",
     "output_type": "stream",
     "text": [
      "The List : [55, [], 14, 75, [], 96, 80, [], 36]\n",
      "The list after removing empty lists : [55, 14, 75, 96, 80, 36]\n"
     ]
    }
   ],
   "source": [
    "\n",
    "lst = [55,[],14,75,[],96,80,[],36]\n",
    "print(\"The List :\",lst)\n",
    "new_list = [item for item in lst if item != []]\n",
    "print(\"The list after removing empty lists :\" , new_list)"
   ]
  },
  {
   "cell_type": "markdown",
   "id": "1cfc24f2",
   "metadata": {},
   "source": [
    "10 . Write a Python program to Cloning or Copying a list?"
   ]
  },
  {
   "cell_type": "code",
   "execution_count": 19,
   "id": "52c313d3",
   "metadata": {},
   "outputs": [
    {
     "name": "stdout",
     "output_type": "stream",
     "text": [
      "Enter the lenth of your list : 5\n",
      "1\n",
      "2\n",
      "3\n",
      "4\n",
      "5\n",
      "The List is  [1, 2, 3, 4, 5]\n",
      "Cloning By list copying lst  [1, 2, 3, 4, 5]\n"
     ]
    }
   ],
   "source": [
    "n = int(input(\"Enter the lenth of your list : \"))\n",
    "lst = []\n",
    "\n",
    "for i in range(n):\n",
    "    lst.append(int(input()))\n",
    "print(\"The List is \",lst)\n",
    "\n",
    "lst_copy = lst.copy()\n",
    "print(\"Cloning By list copying lst \",lst_copy)"
   ]
  },
  {
   "cell_type": "markdown",
   "id": "f73c766a",
   "metadata": {},
   "source": [
    "11 . Write a Python program to Count occurrences of an element in a list?"
   ]
  },
  {
   "cell_type": "code",
   "execution_count": 21,
   "id": "eb212adc",
   "metadata": {},
   "outputs": [
    {
     "name": "stdout",
     "output_type": "stream",
     "text": [
      "The count of ele in a list: Counter({1: 2, 2: 2, 3: 2, 4: 2, 5: 2, 6: 2})\n"
     ]
    }
   ],
   "source": [
    "from collections import Counter\n",
    "\n",
    "l = [1,2,3,1,2,3,4,5,6,4,5,6]\n",
    "count = Counter(l)\n",
    "print(\"The count of ele in a list:\",count)"
   ]
  },
  {
   "cell_type": "code",
   "execution_count": null,
   "id": "53b19c9d",
   "metadata": {},
   "outputs": [],
   "source": []
  }
 ],
 "metadata": {
  "kernelspec": {
   "display_name": "Python 3 (ipykernel)",
   "language": "python",
   "name": "python3"
  },
  "language_info": {
   "codemirror_mode": {
    "name": "ipython",
    "version": 3
   },
   "file_extension": ".py",
   "mimetype": "text/x-python",
   "name": "python",
   "nbconvert_exporter": "python",
   "pygments_lexer": "ipython3",
   "version": "3.9.7"
  }
 },
 "nbformat": 4,
 "nbformat_minor": 5
}
