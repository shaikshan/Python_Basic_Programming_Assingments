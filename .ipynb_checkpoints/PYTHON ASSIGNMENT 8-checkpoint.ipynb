{
 "cells": [
  {
   "cell_type": "markdown",
   "id": "c4471eff",
   "metadata": {},
   "source": [
    "1 . Write a Python Program to Add Two Matrices?"
   ]
  },
  {
   "cell_type": "code",
   "execution_count": 17,
   "id": "ead66f93",
   "metadata": {},
   "outputs": [
    {
     "name": "stdout",
     "output_type": "stream",
     "text": [
      "Addition of two matrices :\n",
      " [[ 5  7]\n",
      " [ 9 11]]\n"
     ]
    }
   ],
   "source": [
    "import numpy as np\n",
    "A = [[1,2],\n",
    "    [3,4]]\n",
    "B = [[4,5],\n",
    "    [6,7]]\n",
    "A = np.array(A)\n",
    "B = np.array(B)\n",
    "Add = np.add(A,B)\n",
    "print(\"Addition of two matrices :\\n\",Add)"
   ]
  },
  {
   "cell_type": "markdown",
   "id": "0c36f121",
   "metadata": {},
   "source": [
    "2 . Write a Python Program to Multiply Two Matrices?"
   ]
  },
  {
   "cell_type": "code",
   "execution_count": 24,
   "id": "023ecfac",
   "metadata": {},
   "outputs": [
    {
     "name": "stdout",
     "output_type": "stream",
     "text": [
      "Multiplication of two matrices :\n",
      " [[16 19]\n",
      " [36 43]]\n"
     ]
    }
   ],
   "source": [
    "import numpy as np\n",
    "A = [[1,2],\n",
    "    [3,4]]\n",
    "B = [[4,5],\n",
    "    [6,7]]\n",
    "A = np.array(A)\n",
    "B = np.array(B)\n",
    "Mul = np.dot(A,B)\n",
    "print(\"Multiplication of two matrices :\\n\",Mul)"
   ]
  },
  {
   "cell_type": "markdown",
   "id": "b6d2c79f",
   "metadata": {},
   "source": [
    "3 . Write a Python Program to Transpose a Matrix?"
   ]
  },
  {
   "cell_type": "code",
   "execution_count": 26,
   "id": "fd096ed6",
   "metadata": {},
   "outputs": [
    {
     "name": "stdout",
     "output_type": "stream",
     "text": [
      "Transpose of Matrix:\n",
      " [[1 3]\n",
      " [2 4]]\n"
     ]
    }
   ],
   "source": [
    "import numpy as np\n",
    "A = [[1,2],\n",
    "    [3,4]]\n",
    "mat = np.array(A)\n",
    "Transpose = mat.T\n",
    "print(\"Transpose of Matrix:\\n\",Transpose)"
   ]
  },
  {
   "cell_type": "markdown",
   "id": "fc3da059",
   "metadata": {},
   "source": [
    "4 . Write a Python Program to Sort Words in Alphabetic Order?"
   ]
  },
  {
   "cell_type": "code",
   "execution_count": 30,
   "id": "f616ccf3",
   "metadata": {},
   "outputs": [
    {
     "name": "stdout",
     "output_type": "stream",
     "text": [
      "Enter stringPYTHON IS BEST\n",
      "BEST\n",
      "IS\n",
      "PYTHON\n"
     ]
    }
   ],
   "source": [
    "Arr = input(\"Enter string\")\n",
    "\n",
    "words = Arr.split()\n",
    "words.sort()\n",
    "for word in words:\n",
    "    print(word)"
   ]
  },
  {
   "cell_type": "markdown",
   "id": "cf6cdfea",
   "metadata": {},
   "source": [
    "5 . Write a Python Program to Remove Punctuation From a String?"
   ]
  },
  {
   "cell_type": "code",
   "execution_count": 33,
   "id": "8e2967a9",
   "metadata": {},
   "outputs": [
    {
     "name": "stdout",
     "output_type": "stream",
     "text": [
      "Enter a string with punctuations :super!'''!()-[]{};:'\"\\,<>./?@#$%^&*_~'''\n",
      "super\n"
     ]
    }
   ],
   "source": [
    "punctuations = '''!()-[]{};:'\"\\,<>./?@#$%^&*_~'''\n",
    "\n",
    "st = input(\"Enter a string with punctuations :\")\n",
    "\n",
    "\n",
    "rem_punc = \"\"\n",
    "for i in st:\n",
    "    if i not in punctuations:\n",
    "        rem_punc = rem_punc + i\n",
    "\n",
    "# display \n",
    "print(rem_punc)"
   ]
  },
  {
   "cell_type": "code",
   "execution_count": null,
   "id": "2e9c4c43",
   "metadata": {},
   "outputs": [],
   "source": []
  }
 ],
 "metadata": {
  "kernelspec": {
   "display_name": "Python 3 (ipykernel)",
   "language": "python",
   "name": "python3"
  },
  "language_info": {
   "codemirror_mode": {
    "name": "ipython",
    "version": 3
   },
   "file_extension": ".py",
   "mimetype": "text/x-python",
   "name": "python",
   "nbconvert_exporter": "python",
   "pygments_lexer": "ipython3",
   "version": "3.9.7"
  }
 },
 "nbformat": 4,
 "nbformat_minor": 5
}
