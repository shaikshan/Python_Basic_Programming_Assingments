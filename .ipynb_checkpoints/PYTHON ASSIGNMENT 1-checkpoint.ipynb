{
 "cells": [
  {
   "cell_type": "markdown",
   "id": "5fc8fde4",
   "metadata": {},
   "source": [
    "1 . Write a Python program to print &quot;Hello Python&quot;?"
   ]
  },
  {
   "cell_type": "code",
   "execution_count": 1,
   "id": "85b960c0",
   "metadata": {},
   "outputs": [
    {
     "name": "stdout",
     "output_type": "stream",
     "text": [
      "Hello Python\n"
     ]
    }
   ],
   "source": [
    "print(\"Hello Python\")"
   ]
  },
  {
   "cell_type": "markdown",
   "id": "aec68336",
   "metadata": {},
   "source": [
    "2 . Write a Python program to do arithmetical operations addition and division.?"
   ]
  },
  {
   "cell_type": "code",
   "execution_count": 6,
   "id": "d83ebba3",
   "metadata": {},
   "outputs": [],
   "source": [
    "class arithmetical:\n",
    "    def __init__(self,num1,num2):\n",
    "        self.num1 = num1\n",
    "        self.num2 = num2\n",
    "    def addition(self):\n",
    "        result = self.num1+self.num2\n",
    "        return result\n",
    "    def division(self):\n",
    "        result = self.num1/self.num2\n",
    "        return round(result,2)"
   ]
  },
  {
   "cell_type": "code",
   "execution_count": 8,
   "id": "04342fb9",
   "metadata": {},
   "outputs": [
    {
     "name": "stdout",
     "output_type": "stream",
     "text": [
      "101\n",
      "1.24\n"
     ]
    }
   ],
   "source": [
    "a = arithmetical(56,45)\n",
    "b = a.addition()\n",
    "d = a.division()\n",
    "print(b)\n",
    "print(d)"
   ]
  },
  {
   "cell_type": "markdown",
   "id": "2bba030e",
   "metadata": {},
   "source": [
    "3 . Write a Python program to find the area of a triangle?"
   ]
  },
  {
   "cell_type": "code",
   "execution_count": 9,
   "id": "6da920be",
   "metadata": {},
   "outputs": [
    {
     "name": "stdout",
     "output_type": "stream",
     "text": [
      "Enter the base of the triangle=5\n",
      "Enter the height of the triangle=5\n",
      "The Area of the triangle is 12.5\n"
     ]
    }
   ],
   "source": [
    "base = int(input(\"Enter the base of the triangle=\"))\n",
    "Height = int(input(\"Enter the height of the triangle=\"))\n",
    "Area = (Height*base)/2\n",
    "print(\"The Area of the triangle is {}\".format(Area))"
   ]
  },
  {
   "cell_type": "markdown",
   "id": "c49b9ab6",
   "metadata": {},
   "source": [
    "4 . Write a Python program to swap two variables?"
   ]
  },
  {
   "cell_type": "code",
   "execution_count": 10,
   "id": "42558fb8",
   "metadata": {},
   "outputs": [
    {
     "name": "stdout",
     "output_type": "stream",
     "text": [
      "First variable =5\n",
      "Second variable = 8\n",
      "Before swap First variable 5 \n",
      " Second variable 8\n",
      "After swap First variable 8 \n",
      " Second variable 5\n"
     ]
    }
   ],
   "source": [
    "var1 = int(input(\"First variable =\"))\n",
    "var2 = int(input(\"Second variable = \"))\n",
    "print(\"Before swap First variable {} \\n Second variable {}\".format(var1,var2))\n",
    "var1,var2=var2,var1\n",
    "print(\"After swap First variable {} \\n Second variable {}\".format(var1,var2))"
   ]
  },
  {
   "cell_type": "markdown",
   "id": "f93540e6",
   "metadata": {},
   "source": [
    "5 . Write a Python program to generate a random number?"
   ]
  },
  {
   "cell_type": "code",
   "execution_count": 11,
   "id": "e46c571b",
   "metadata": {},
   "outputs": [
    {
     "name": "stdout",
     "output_type": "stream",
     "text": [
      "6\n"
     ]
    }
   ],
   "source": [
    "import random\n",
    "print(random.randint(0,10))"
   ]
  },
  {
   "cell_type": "code",
   "execution_count": null,
   "id": "85e35623",
   "metadata": {},
   "outputs": [],
   "source": []
  }
 ],
 "metadata": {
  "kernelspec": {
   "display_name": "Python 3 (ipykernel)",
   "language": "python",
   "name": "python3"
  },
  "language_info": {
   "codemirror_mode": {
    "name": "ipython",
    "version": 3
   },
   "file_extension": ".py",
   "mimetype": "text/x-python",
   "name": "python",
   "nbconvert_exporter": "python",
   "pygments_lexer": "ipython3",
   "version": "3.9.7"
  }
 },
 "nbformat": 4,
 "nbformat_minor": 5
}
