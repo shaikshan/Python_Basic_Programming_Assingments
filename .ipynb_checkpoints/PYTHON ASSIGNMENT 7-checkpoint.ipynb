{
 "cells": [
  {
   "cell_type": "markdown",
   "id": "aa22c168",
   "metadata": {},
   "source": [
    "1 . Write a Python Program to find sum of array?"
   ]
  },
  {
   "cell_type": "code",
   "execution_count": 4,
   "id": "98e7426d",
   "metadata": {},
   "outputs": [
    {
     "name": "stdout",
     "output_type": "stream",
     "text": [
      "Sum :  24\n"
     ]
    }
   ],
   "source": [
    "sum =0\n",
    "arr = [1,2,3,4,5,9]\n",
    "for i in arr:\n",
    "    sum+=i\n",
    "print(\"Sum : \",sum)"
   ]
  },
  {
   "cell_type": "markdown",
   "id": "1ebb351c",
   "metadata": {},
   "source": [
    "2 . Write a Python Program to find largest element in an array?"
   ]
  },
  {
   "cell_type": "code",
   "execution_count": 12,
   "id": "fecb6d58",
   "metadata": {},
   "outputs": [
    {
     "name": "stdout",
     "output_type": "stream",
     "text": [
      "Largest element of array : 55\n"
     ]
    }
   ],
   "source": [
    "arr = [1,4,8,9,20,55,6]\n",
    "arr.sort(reverse=True)\n",
    "print(\"Largest element of array :\",arr[0])"
   ]
  },
  {
   "cell_type": "markdown",
   "id": "e66ad452",
   "metadata": {},
   "source": [
    "3 . Write a Python Program for array rotation?"
   ]
  },
  {
   "cell_type": "code",
   "execution_count": 30,
   "id": "d8b0b4cb",
   "metadata": {},
   "outputs": [
    {
     "name": "stdout",
     "output_type": "stream",
     "text": [
      "Enter the lenth of arr : 5\n",
      "5\n",
      "4\n",
      "6\n",
      "87\n",
      "6\n",
      "Arr is  [5, 4, 6, 87, 6]\n",
      "Enter Rotation Right/Left : left\n",
      "Enter the number of elements to rotate  : 5\n",
      "After Left rotation :  [5, 4, 6, 87, 6]\n"
     ]
    }
   ],
   "source": [
    "l = int(input(\"Enter the lenth of arr : \"))\n",
    "arr = []\n",
    "\n",
    "for i in range(l):\n",
    "    arr.append(int(input()))\n",
    "print(\"Arr is \",arr)\n",
    "rotation = input(\"Enter Rotation Right/Left : \")\n",
    "noro = int(input(\"Enter the number of elements to rotate  : \"))\n",
    "if noro > l:\n",
    "    print(\"can not rotate as elements to rotate is larger then arr length\")\n",
    "else:\n",
    "    rarr = []\n",
    "    if rotation.upper() == \"RIGHT\":\n",
    "        rarr[:] = arr[-noro:] + arr[:(l-noro)]\n",
    "        print(\"After right rotation : \",rarr)\n",
    "    elif rotation.upper() == \"LEFT\":\n",
    "        rarr[:] = arr[noro:l] + arr[:noro] \n",
    "        print(\"After Left rotation : \",rarr)\n",
    "    else:\n",
    "        print(\"Wrong Entry\")"
   ]
  },
  {
   "cell_type": "markdown",
   "id": "fc42ccef",
   "metadata": {},
   "source": [
    "4 . Write a Python Program to Split the array and add the first part to the end?"
   ]
  },
  {
   "cell_type": "code",
   "execution_count": 35,
   "id": "c2cce6c4",
   "metadata": {},
   "outputs": [
    {
     "name": "stdout",
     "output_type": "stream",
     "text": [
      "Enter the lenth of your list : 7\n",
      "1\n",
      "2\n",
      "3\n",
      "5\n",
      "6\n",
      "4\n",
      "4\n",
      "The List   [1, 2, 3, 5, 6, 4, 4]\n",
      "Enter the number of elements to split  : 4\n",
      "The split list is : [1, 2, 3, 5]\n",
      "The List after split and add : [6, 4, 4, 1, 2, 3, 5]\n"
     ]
    }
   ],
   "source": [
    "\n",
    "l = int(input(\"Enter the lenth of your list : \"))\n",
    "arr = []\n",
    "\n",
    "for i in range(l):\n",
    "    arr.append(int(input()))\n",
    "print(\"The List  \",arr)\n",
    "\n",
    "noro = int(input(\"Enter the number of elements to split  : \"))\n",
    "if noro > l:\n",
    "    print(\"can not split as elements to split is larger then list lengh\")\n",
    "else:\n",
    "    print(\"The split list is :\",arr[:noro])\n",
    "    rarr[:] = arr[noro:l] + arr[:noro]\n",
    "    print(\"The List after split and add :\", rarr)"
   ]
  },
  {
   "cell_type": "markdown",
   "id": "380634e4",
   "metadata": {},
   "source": [
    "5 . Write a Python Program to check if given array is Monotonic?"
   ]
  },
  {
   "cell_type": "code",
   "execution_count": 36,
   "id": "ff76b4b9",
   "metadata": {},
   "outputs": [
    {
     "name": "stdout",
     "output_type": "stream",
     "text": [
      "Enter the lenth of your list : 5\n",
      "1\n",
      "2\n",
      "3\n",
      "4\n",
      "5\n",
      "The List is  [1, 2, 3, 4, 5]\n",
      "Monotonic\n"
     ]
    }
   ],
   "source": [
    "\n",
    "l = int(input(\"Enter the lenth of your list : \"))\n",
    "arr = []\n",
    "\n",
    "for i in range(l):\n",
    "    arr.append(int(input()))\n",
    "print(\"The List is \",arr)\n",
    "\n",
    "if all((arr[i] <= arr[i+1] for i in range(l-1)) or (arr[i] >= arr[i+1] for i in range(l-1))):\n",
    "    print(\"Monotonic\")\n",
    "else:\n",
    "    print(\"Not Monotonic\")"
   ]
  },
  {
   "cell_type": "code",
   "execution_count": null,
   "id": "d0e39d7c",
   "metadata": {},
   "outputs": [],
   "source": []
  }
 ],
 "metadata": {
  "kernelspec": {
   "display_name": "Python 3 (ipykernel)",
   "language": "python",
   "name": "python3"
  },
  "language_info": {
   "codemirror_mode": {
    "name": "ipython",
    "version": 3
   },
   "file_extension": ".py",
   "mimetype": "text/x-python",
   "name": "python",
   "nbconvert_exporter": "python",
   "pygments_lexer": "ipython3",
   "version": "3.9.7"
  }
 },
 "nbformat": 4,
 "nbformat_minor": 5
}
