{
 "cells": [
  {
   "cell_type": "markdown",
   "id": "6c2f61ec",
   "metadata": {},
   "source": [
    "1 . Write a Python program to convert kilometers to miles?"
   ]
  },
  {
   "cell_type": "code",
   "execution_count": 2,
   "id": "9bebae9d",
   "metadata": {},
   "outputs": [
    {
     "name": "stdout",
     "output_type": "stream",
     "text": [
      "Enter km:10\n",
      "Miles =  6.2\n"
     ]
    }
   ],
   "source": [
    "km = int(input(\"Enter km:\"))\n",
    "miles = km*0.62\n",
    "print(\"Miles = \",miles)"
   ]
  },
  {
   "cell_type": "markdown",
   "id": "d7102790",
   "metadata": {},
   "source": [
    "2 . Write a Python program to convert Celsius to Fahrenheit?"
   ]
  },
  {
   "cell_type": "code",
   "execution_count": 3,
   "id": "088d3b57",
   "metadata": {},
   "outputs": [
    {
     "name": "stdout",
     "output_type": "stream",
     "text": [
      "Enter Celsius =45\n",
      "113.0\n"
     ]
    }
   ],
   "source": [
    "Celsius = int(input(\"Enter Celsius =\"))\n",
    "Fh = (Celsius*9/5)+32\n",
    "print(Fh)"
   ]
  },
  {
   "cell_type": "markdown",
   "id": "66046f02",
   "metadata": {},
   "source": [
    "3 . Write a Python program to display calendar?"
   ]
  },
  {
   "cell_type": "code",
   "execution_count": 5,
   "id": "9f095ea8",
   "metadata": {},
   "outputs": [
    {
     "name": "stdout",
     "output_type": "stream",
     "text": [
      "Enter year = 2020\n",
      "Enter month = 9\n",
      "   September 2020\n",
      "Mo Tu We Th Fr Sa Su\n",
      "    1  2  3  4  5  6\n",
      " 7  8  9 10 11 12 13\n",
      "14 15 16 17 18 19 20\n",
      "21 22 23 24 25 26 27\n",
      "28 29 30\n",
      "\n"
     ]
    }
   ],
   "source": [
    "import calendar\n",
    "year = int(input(\"Enter year = \"))\n",
    "month = int(input(\"Enter month = \"))\n",
    "\n",
    "print(calendar.month(year,month))"
   ]
  },
  {
   "cell_type": "markdown",
   "id": "3832e0fc",
   "metadata": {},
   "source": [
    "4 . Write a Python program to solve quadratic equation?"
   ]
  },
  {
   "cell_type": "code",
   "execution_count": 6,
   "id": "2eba6837",
   "metadata": {},
   "outputs": [
    {
     "name": "stdout",
     "output_type": "stream",
     "text": [
      "Enter a = 5\n",
      "Enter b = 6\n",
      "Enter c = 8\n",
      "(-0.6+1.1135528725660042j) , (-0.6-1.1135528725660042j)\n"
     ]
    }
   ],
   "source": [
    "# x=-b+-sqrt(b**2-4ac)/2*a\n",
    "import cmath\n",
    "a=int(input(\"Enter a = \"))\n",
    "b=int(input(\"Enter b = \"))\n",
    "c=int(input(\"Enter c = \"))\n",
    "discriminant = (b**2)-(4*a*c)\n",
    "sol_one = (-b+cmath.sqrt(discriminant))/(2*a)\n",
    "sol_two = (-b-cmath.sqrt(discriminant))/(2*a)\n",
    "print(sol_one ,\",\", sol_two)"
   ]
  },
  {
   "cell_type": "markdown",
   "id": "ea293a41",
   "metadata": {},
   "source": [
    "5 . Write a Python program to swap two variables without temp variable?"
   ]
  },
  {
   "cell_type": "code",
   "execution_count": 7,
   "id": "b9b5416e",
   "metadata": {},
   "outputs": [
    {
     "name": "stdout",
     "output_type": "stream",
     "text": [
      "First Variable =7\n",
      "Second Variable =4\n",
      "First Variable Before swap  : 7 \n",
      " Second variable Before Swap  : 4\n",
      "After Swap : \n",
      " First Variabe : 4 \n",
      "  Second Variable : 7\n"
     ]
    }
   ],
   "source": [
    "first_variable = int(input(\"First Variable =\"))\n",
    "second_variable = int(input(\"Second Variable =\"))\n",
    "print(\"First Variable Before swap  : {} \\n Second variable Before Swap  : {}\".format(first_variable,second_variable))\n",
    "first_variable , second_variable = second_variable , first_variable\n",
    "\n",
    "print(\"After Swap : \\n First Variabe : {} \\n  Second Variable : {}\".format(first_variable , second_variable))"
   ]
  },
  {
   "cell_type": "code",
   "execution_count": null,
   "id": "289a7ef9",
   "metadata": {},
   "outputs": [],
   "source": []
  }
 ],
 "metadata": {
  "kernelspec": {
   "display_name": "Python 3 (ipykernel)",
   "language": "python",
   "name": "python3"
  },
  "language_info": {
   "codemirror_mode": {
    "name": "ipython",
    "version": 3
   },
   "file_extension": ".py",
   "mimetype": "text/x-python",
   "name": "python",
   "nbconvert_exporter": "python",
   "pygments_lexer": "ipython3",
   "version": "3.9.7"
  }
 },
 "nbformat": 4,
 "nbformat_minor": 5
}
