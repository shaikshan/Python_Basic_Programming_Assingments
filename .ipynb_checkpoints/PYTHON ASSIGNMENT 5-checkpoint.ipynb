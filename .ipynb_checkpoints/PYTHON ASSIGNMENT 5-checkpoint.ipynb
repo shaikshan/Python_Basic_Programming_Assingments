{
 "cells": [
  {
   "cell_type": "markdown",
   "id": "423dda0f",
   "metadata": {},
   "source": [
    "1 . Write a Python Program to Find LCM?"
   ]
  },
  {
   "cell_type": "code",
   "execution_count": 4,
   "id": "eb8042ef",
   "metadata": {},
   "outputs": [
    {
     "name": "stdout",
     "output_type": "stream",
     "text": [
      "Enter num1 :4\n",
      "Enter num2 :3\n",
      "The LCM of 4 and 3 is 12\n"
     ]
    }
   ],
   "source": [
    "num1 = int(input(\"Enter num1 :\"))\n",
    "num2 = int(input(\"Enter num2 :\"))\n",
    "\n",
    "if num1>num2:\n",
    "    big = num1\n",
    "else:\n",
    "    big = num2\n",
    "    \n",
    "while True:\n",
    "    if big%num1 == 0 and big%num2 == 0:\n",
    "        lcm = big\n",
    "        break\n",
    "    big+=1\n",
    "    \n",
    "print(f\"The LCM of {num1} and {num2} is {lcm}\")"
   ]
  },
  {
   "cell_type": "markdown",
   "id": "1da129cd",
   "metadata": {},
   "source": [
    "2 . Write a Python Program to Find HCF?"
   ]
  },
  {
   "cell_type": "code",
   "execution_count": 7,
   "id": "42b5d58f",
   "metadata": {},
   "outputs": [
    {
     "name": "stdout",
     "output_type": "stream",
     "text": [
      "Enter num1 :4\n",
      "Enter num2 :5\n",
      "The HCF of 4 and 5 is 1\n"
     ]
    }
   ],
   "source": [
    "num1 = int(input(\"Enter num1 :\"))\n",
    "num2 = int(input(\"Enter num2 :\"))\n",
    "\n",
    "if num1<num2:\n",
    "    small = num1\n",
    "else:\n",
    "    small = num2\n",
    "i = 1   \n",
    "while (i<=small) :\n",
    "    if num1%i == 0 and num2%i == 0:\n",
    "        hcf = i\n",
    "        break\n",
    "    i+=1\n",
    "    \n",
    "print(f\"The HCF of {num1} and {num2} is {hcf}\")"
   ]
  },
  {
   "cell_type": "markdown",
   "id": "2e75997e",
   "metadata": {},
   "source": [
    "3 . Write a Python Program to Convert Decimal to Binary, Octal and Hexadecimal?"
   ]
  },
  {
   "cell_type": "code",
   "execution_count": 9,
   "id": "cead89ce",
   "metadata": {},
   "outputs": [
    {
     "name": "stdout",
     "output_type": "stream",
     "text": [
      "Enter number :12\n",
      "12 In Binary : 0b1100\n",
      "12 In Octal : 0o14\n",
      "12 In Hexadecimal : 0xc\n"
     ]
    }
   ],
   "source": [
    "num = int(input(\"Enter number :\"))\n",
    "\n",
    "print(num,\"In Binary :\",bin(num))\n",
    "print(num,\"In Octal :\",oct(num))\n",
    "print(num,\"In Hexadecimal :\",hex(num))"
   ]
  },
  {
   "cell_type": "markdown",
   "id": "874d6d2f",
   "metadata": {},
   "source": [
    "4 . Write a Python Program To Find ASCII value of a character?"
   ]
  },
  {
   "cell_type": "code",
   "execution_count": 10,
   "id": "b624db8f",
   "metadata": {},
   "outputs": [
    {
     "name": "stdout",
     "output_type": "stream",
     "text": [
      "Enter a Charecter : a\n",
      "Ascii value of a is 97\n"
     ]
    }
   ],
   "source": [
    "##ASCII (American Standard Code for Information Interchange\n",
    "str = input(\"Enter a Charecter : \")\n",
    "# ord gives the ASCII value of a character\n",
    "print(\"Ascii value of {} is {}\".format(str,ord(str)))"
   ]
  },
  {
   "cell_type": "markdown",
   "id": "0b38d313",
   "metadata": {},
   "source": [
    "5 . Write a Python Program to Make a Simple Calculator with 4 basic mathematical operations?"
   ]
  },
  {
   "cell_type": "code",
   "execution_count": 12,
   "id": "fdc93d1d",
   "metadata": {},
   "outputs": [
    {
     "name": "stdout",
     "output_type": "stream",
     "text": [
      "Enter num1 :10\n",
      "Enter num2 :12\n",
      "Enter + to add: \n",
      " Enter  - to Substract:\n",
      " Enter * to multiply:\n",
      " Enter / to divide :/\n",
      "10.0 / 12.0 = 0.83\n"
     ]
    }
   ],
   "source": [
    "num1 = float(input(\"Enter num1 :\"))\n",
    "num2 = float(input(\"Enter num2 :\"))\n",
    "\n",
    "op = input(\"Enter + to add: \\n Enter  - to Substract:\\n Enter * to multiply:\\n Enter / to divide :\")\n",
    "\n",
    "add = num1+num2\n",
    "sub = num1-num2\n",
    "mul = num1*num2\n",
    "\n",
    "if op == '+':\n",
    "    print(f\"{num1} + {num2} = {add}\")\n",
    "elif op == \"-\":\n",
    "    print(f\"{num1} - {num2} = {sub}\")\n",
    "elif op == \"*\":\n",
    "    print(f\"{num1} * {num2} = {mul}\")\n",
    "elif op == \"/\":\n",
    "    if num1 == 0 or num2 == 0:\n",
    "        print(\"Division with zero error\")\n",
    "    else:\n",
    "        div = num1/num2\n",
    "        print(f\"{num1} / {num2} = {round(div,2)}\")\n",
    "else:\n",
    "    print(\"Invalid input\")"
   ]
  },
  {
   "cell_type": "code",
   "execution_count": null,
   "id": "133f77f2",
   "metadata": {},
   "outputs": [],
   "source": []
  }
 ],
 "metadata": {
  "kernelspec": {
   "display_name": "Python 3 (ipykernel)",
   "language": "python",
   "name": "python3"
  },
  "language_info": {
   "codemirror_mode": {
    "name": "ipython",
    "version": 3
   },
   "file_extension": ".py",
   "mimetype": "text/x-python",
   "name": "python",
   "nbconvert_exporter": "python",
   "pygments_lexer": "ipython3",
   "version": "3.9.7"
  }
 },
 "nbformat": 4,
 "nbformat_minor": 5
}
