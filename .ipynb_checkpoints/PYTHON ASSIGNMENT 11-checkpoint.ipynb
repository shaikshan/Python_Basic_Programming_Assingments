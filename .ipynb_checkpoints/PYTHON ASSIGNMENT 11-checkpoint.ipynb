{
 "cells": [
  {
   "cell_type": "markdown",
   "id": "26ed05e0",
   "metadata": {},
   "source": [
    "1 . Write a Python program to find words which are greater than given length k?"
   ]
  },
  {
   "cell_type": "code",
   "execution_count": 1,
   "id": "f0b5a907",
   "metadata": {},
   "outputs": [
    {
     "name": "stdout",
     "output_type": "stream",
     "text": [
      "Enter the string :hello world\n",
      "Enter the lenght K :3\n",
      "\n",
      "The original string 'hello world'\n",
      "Words greater than k3\n",
      "['hello', 'world']\n"
     ]
    }
   ],
   "source": [
    "def Bigger(k,str):\n",
    "    txt = str.split()\n",
    "    wordlist = []\n",
    "    for i in txt:\n",
    "        if len(i)>k:\n",
    "            wordlist.append(i)\n",
    "    return wordlist\n",
    "\n",
    "str = input(\"Enter the string :\")\n",
    "k = int(input(\"Enter the lenght K :\"))\n",
    "\n",
    "wordlist = Bigger(k,str)\n",
    "\n",
    "print(\"\\nThe original string '{}'\".format(str))\n",
    "\n",
    "print(\"Words greater than k{}\".format(k))\n",
    "print(wordlist)"
   ]
  },
  {
   "cell_type": "markdown",
   "id": "3c013877",
   "metadata": {},
   "source": [
    "2 . Write a Python program for removing i-th character from a string?"
   ]
  },
  {
   "cell_type": "code",
   "execution_count": 11,
   "id": "b567271b",
   "metadata": {},
   "outputs": [
    {
     "name": "stdout",
     "output_type": "stream",
     "text": [
      "2\n",
      "Enter string:roshan\n",
      "rohan\n"
     ]
    }
   ],
   "source": [
    "r = int(input())\n",
    "s = input(\"Enter string:\")\n",
    "def remove(s,i):\n",
    "    for i in range(len(s)):\n",
    "        if i == r:\n",
    "            s = s.replace(s[i],\"\")\n",
    "    return s\n",
    "\n",
    "print(remove(s,i))"
   ]
  },
  {
   "cell_type": "markdown",
   "id": "eaf78eaf",
   "metadata": {},
   "source": [
    "3 . Write a Python program to split and join a string?"
   ]
  },
  {
   "cell_type": "code",
   "execution_count": 15,
   "id": "0265097c",
   "metadata": {
    "scrolled": true
   },
   "outputs": [
    {
     "name": "stdout",
     "output_type": "stream",
     "text": [
      "Enter a string :hello world!\n",
      "Splitted string: ['hello', 'world!']\n",
      "Joined string: hello,world!\n"
     ]
    }
   ],
   "source": [
    "s = input(\"Enter a string :\")\n",
    "split = s.split(\" \")\n",
    "print(\"Splitted string:\",split)\n",
    "\n",
    "join = \",\".join(split)\n",
    "print(\"Joined string:\",join)"
   ]
  },
  {
   "cell_type": "markdown",
   "id": "4c4f4de3",
   "metadata": {},
   "source": [
    "4 . Write a Python to check if a given string is binary string or not?"
   ]
  },
  {
   "cell_type": "code",
   "execution_count": 17,
   "id": "4eabbc1c",
   "metadata": {},
   "outputs": [
    {
     "name": "stdout",
     "output_type": "stream",
     "text": [
      "Enter the string:0101010101010101\n",
      "binary\n"
     ]
    }
   ],
   "source": [
    "def binary(s):\n",
    "    binary = '01'\n",
    "    for i in range(len(s)):\n",
    "        if s[i] not in binary:\n",
    "            print('Not binary')\n",
    "            break    \n",
    "    else:\n",
    "        print(\"binary\")\n",
    "        \n",
    "s = input(\"Enter the string:\")\n",
    "binary(s)\n",
    "            "
   ]
  },
  {
   "cell_type": "markdown",
   "id": "11d93bf5",
   "metadata": {},
   "source": [
    "5 . Write a Python program to find uncommon words from two Strings?"
   ]
  },
  {
   "cell_type": "code",
   "execution_count": 19,
   "id": "ea773023",
   "metadata": {},
   "outputs": [
    {
     "name": "stdout",
     "output_type": "stream",
     "text": [
      "Enter the string a : ONE OF TWO\n",
      "Enter the string b : ONE OF THREE\n",
      "The list of un Common words :   two three\n"
     ]
    }
   ],
   "source": [
    "\n",
    "def unCommon(a,b):\n",
    "    list_one = a.split()\n",
    "    list_two = b.split()\n",
    "    notcom =''\n",
    "    \n",
    "    for i in list_one:\n",
    "        if i not in list_two:\n",
    "            notcom = notcom +\" \"+ i\n",
    "    for j in list_two:\n",
    "        if j not in list_one:\n",
    "            notcom = notcom +\" \"+ j\n",
    "    return notcom\n",
    "\n",
    "a = input(\"Enter the string a : \").lower()\n",
    "b = input(\"Enter the string b : \").lower()\n",
    "\n",
    "print(\"The list of un Common words : \", unCommon(a,b))"
   ]
  },
  {
   "cell_type": "markdown",
   "id": "0415e15d",
   "metadata": {},
   "source": [
    "6 . Write a Python to find all duplicate characters in string?"
   ]
  },
  {
   "cell_type": "code",
   "execution_count": 20,
   "id": "58ae628d",
   "metadata": {},
   "outputs": [
    {
     "name": "stdout",
     "output_type": "stream",
     "text": [
      "Enter the string:i love coding\n"
     ]
    },
    {
     "data": {
      "text/plain": [
       "['i', ' ', 'o']"
      ]
     },
     "execution_count": 20,
     "metadata": {},
     "output_type": "execute_result"
    }
   ],
   "source": [
    "s = input(\"Enter the string:\")\n",
    "duplicate = []\n",
    "\n",
    "for i in s:\n",
    "    if s.count(i)>1:\n",
    "        if i not in duplicate:\n",
    "            duplicate.append(i)\n",
    "            \n",
    "duplicate"
   ]
  },
  {
   "cell_type": "markdown",
   "id": "e31bb859",
   "metadata": {},
   "source": [
    "7 . Write a Python Program to check if a string contains any special character?"
   ]
  },
  {
   "cell_type": "code",
   "execution_count": 21,
   "id": "16b85560",
   "metadata": {
    "scrolled": false
   },
   "outputs": [
    {
     "name": "stdout",
     "output_type": "stream",
     "text": [
      "Enter the string a : I am !@##$%\n",
      "String i am !@##$% has special charecter/s : ['!', '@', '#', '#', '$', '%']\n"
     ]
    }
   ],
   "source": [
    "\n",
    "import string\n",
    "\n",
    "str_char = string.punctuation\n",
    "speci_str = []\n",
    "\n",
    "str = input(\"Enter the string a : \").lower()\n",
    "for i in str:\n",
    "    if i in str_char:\n",
    "        speci_str.append(i)\n",
    "if len(speci_str) > 0:\n",
    "    print(\"String {} has special charecter/s : {}\".format(str,speci_str))"
   ]
  },
  {
   "cell_type": "code",
   "execution_count": null,
   "id": "b1e9dac9",
   "metadata": {},
   "outputs": [],
   "source": []
  }
 ],
 "metadata": {
  "kernelspec": {
   "display_name": "Python 3 (ipykernel)",
   "language": "python",
   "name": "python3"
  },
  "language_info": {
   "codemirror_mode": {
    "name": "ipython",
    "version": 3
   },
   "file_extension": ".py",
   "mimetype": "text/x-python",
   "name": "python",
   "nbconvert_exporter": "python",
   "pygments_lexer": "ipython3",
   "version": "3.9.7"
  }
 },
 "nbformat": 4,
 "nbformat_minor": 5
}
